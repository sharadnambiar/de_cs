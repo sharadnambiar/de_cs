{
 "cells": [
  {
   "cell_type": "code",
   "execution_count": null,
   "metadata": {},
   "outputs": [],
   "source": [
    "import pandas as pd \n",
    "\n",
    "\n",
    "file_path = r\"<file_path>\"\n",
    "\n",
    "df = pd.read_csv(file_path)\n",
    "\n"
   ]
  },
  {
   "cell_type": "code",
   "execution_count": null,
   "metadata": {},
   "outputs": [],
   "source": [
    "print(\"--------df.describe--------\")\n",
    "print(\"To get data statics and understand data spread\")\n",
    "print(df.describe(include='all'))\n",
    "print('-----------------------')\n",
    "\n",
    "print(\"--------df.info--------\")\n",
    "print(df.info())\n",
    "print('-----------------------')\n",
    "\n",
    "print(\"--------df.head--------\")\n",
    "print(\"To see data and and get general insights\")\n",
    "print(df.head(5))\n",
    "print('-----------------------')\n",
    "\n",
    "print(\"--------df.dtypes--------\")\n",
    "print(\"To understand the data types to cast or convert in pipeline (If required)\")\n",
    "print(df.dtypes)\n",
    "print('-----------------------')\n",
    "\n",
    "print(\"--------df Null %--------\")\n",
    "print(\"Null percentage check for each data column\")\n",
    "print((df.isnull().sum()/len(df))*100)\n",
    "print('-----------------------')"
   ]
  }
 ],
 "metadata": {
  "kernelspec": {
   "display_name": "base",
   "language": "python",
   "name": "python3"
  },
  "language_info": {
   "codemirror_mode": {
    "name": "ipython",
    "version": 3
   },
   "file_extension": ".py",
   "mimetype": "text/x-python",
   "name": "python",
   "nbconvert_exporter": "python",
   "pygments_lexer": "ipython3",
   "version": "3.7.4"
  }
 },
 "nbformat": 4,
 "nbformat_minor": 2
}
